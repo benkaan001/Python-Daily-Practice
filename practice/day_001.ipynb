{
 "cells": [
  {
   "cell_type": "markdown",
   "metadata": {},
   "source": [
    "# Day 1: Mastering the Python Dictionary\n",
    "\n",
    "Welcome to your practice notebook! Use this space to experiment and solve the exercises for Day 1. The `README.md` file contains the full lesson and problem descriptions."
   ]
  },
  {
   "cell_type": "markdown",
   "metadata": {},
   "source": [
    "### Exercise 1: Dictionary Manipulation"
   ]
  },
  {
   "cell_type": "code",
   "execution_count": null,
   "metadata": {},
   "outputs": [],
   "source": [
    "from typing import Any, Dict, List, Optional\n",
    "\n",
    "def create_and_modify_profile(\n",
    "    profile: Dict[str, Any], action: str, key: str, value: Optional[Any] = None\n",
    ") -> Dict[str, Any]:\n",
    "    \"\"\"\n",
    "    Takes a user profile dictionary and performs an action.\n",
    "    - \"add\": Adds a new key-value pair.\n",
    "    - \"update\": Updates an existing key.\n",
    "    - \"delete\": Removes a key.\n",
    "    Returns a new, modified copy, leaving the original unchanged.\n",
    "    \"\"\"\n",
    "    # Your code here\n",
    "    pass\n",
    "\n",
    "# Example Usage (feel free to add more tests!)\n",
    "user_profile = {\"name\": \"Ben\", \"email\": \"ben@example.com\"}\n",
    "new_profile = create_and_modify_profile(user_profile, \"add\", \"country\", \"Thailand\")\n",
    "print(f\"Original: {user_profile}\")\n",
    "print(f\"New: {new_profile}\")"
   ]
  },
  {
   "cell_type": "markdown",
   "metadata": {},
   "source": [
    "### Exercise 2: Word Frequency Counter"
   ]
  },
  {
   "cell_type": "code",
   "execution_count": null,
   "metadata": {},
   "outputs": [],
   "source": [
    "from typing import Any, Dict, List, Optional\n",
    "\n",
    "def count_word_frequency(sentence: str) -> Dict[str, int]:\n",
    "    \"\"\"\n",
    "    Counts the frequency of words in a sentence.\n",
    "    The function should be case-insensitive and ignore all punctuation.\n",
    "    \"\"\"\n",
    "    # Your code here\n",
    "    pass\n",
    "\n",
    "# Example Usage\n",
    "text = \"The quick brown fox jumps over the lazy dog Dog.\"\n",
    "frequency = count_word_frequency(text)\n",
    "print(frequency)"
   ]
  },
  {
   "cell_type": "markdown",
   "metadata": {},
   "source": [
    "### Exercise 3: The \"Two Sum\" Problem"
   ]
  },
  {
   "cell_type": "code",
   "execution_count": null,
   "metadata": {},
   "outputs": [],
   "source": [
    "from typing import Any, Dict, List, Optional\n",
    "\n",
    "def two_sum(nums: List[int], target: int) -> Optional[List[int]]:\n",
    "    \"\"\"\n",
    "    Finds two numbers in a list that add up to a specific target.\n",
    "    Returns a list containing the indices of the two numbers.\n",
    "    If no two numbers add up to the target, returns None.\n",
    "    \"\"\"\n",
    "    # Your code here\n",
    "    pass\n",
    "\n",
    "# Example Usage\n",
    "result = two_sum([2, 7, 11, 15], 9)\n",
    "print(result)\n",
    "\n",
    "no_solution = two_sum([1, 2, 3], 7)\n",
    "print(no_solution)"
   ]
  }
 ],
 "metadata": {
  "kernelspec": {
   "display_name": "Python 3",
   "language": "python",
   "name": "python3"
  },
  "language_info": {
   "codemirror_mode": {
    "name": "ipython",
    "version": 3
   },
   "file_extension": ".py",
   "mimetype": "text/x-python",
   "name": "python",
   "nbconvert_exporter": "python",
   "pygments_lexer": "ipython3",
   "version": "3.10"
  }
 },
 "nbformat": 4,
 "nbformat_minor": 2
}
