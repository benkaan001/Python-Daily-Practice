{
 "cells": [
  {
   "cell_type": "markdown",
   "metadata": {},
   "source": [
    "# Day 001: Mastering the Python Dictionary\n",
    "\n",
    "Welcome to Day 1! Today's goal is to master the Python dictionary. This notebook is your interactive sandbox to solve the three exercises for today. \n",
    "\n",
    "**Instructions:**\n",
    "1. Read the exercise description in a markdown cell.\n",
    "2. Write your code in the following code cell to solve the problem.\n",
    "3. Run the cell to test your solution.\n",
    "4. Once you have a working solution, transfer the final, clean code into `practice/day_001.py`.\n",
    "5. Run `pytest` from your terminal to formally verify your solution."
   ]
  },
  {
   "cell_type": "markdown",
   "metadata": {},
   "source": [
    "--- \n",
    "### Exercise 1: User Profile Management\n",
    "\n",
    "**Task:** Write a function `create_and_modify_profile` that takes a dictionary representing a user profile. The function should perform the following modifications:\n",
    "1. Add a new key `\"country\"` with the value `\"USA\"`.\n",
    "2. Update the value of the `\"city\"` key to `\"New York\"`.\n",
    "3. Remove the `\"email\"` key.\n",
    "4. The function should return the modified dictionary."
   ]
  },
  {
   "cell_type": "code",
   "execution_count": null,
   "metadata": {},
   "outputs": [],
   "source": [
    "from typing import Dict, Any\n",
    "\n",
    "def create_and_modify_profile(profile: Dict[str, Any]) -> Dict[str, Any]:\n",
    "    # Your implementation goes here\n",
    "    pass\n",
    "\n",
    "# Example usage (you can modify this to test):\n",
    "initial_profile = {\"name\": \"Ben\", \"city\": \"Austin\", \"email\": \"ben@example.com\"}\n",
    "modified_profile = create_and_modify_profile(initial_profile.copy()) # Pass a copy to avoid modifying the original during testing\n",
    "print(f\"Initial: {initial_profile}\")\n",
    "print(f\"Modified: {modified_profile}\")"
   ]
  },
  {
   "cell_type": "markdown",
   "metadata": {},
   "source": [
    "--- \n",
    "### Exercise 2: Word Frequency Counter\n",
    "\n",
    "**Task:** Write a function `count_word_frequency` that takes a string `sentence`. The function should return a dictionary where each key is a word from the sentence and the value is the number of times that word appeared. \n",
    "\n",
    "**Requirements:**\n",
    "- The counting should be case-insensitive (e.g., \"The\" and \"the\" are the same word).\n",
    "- The function should ignore punctuation (e.g., \"test.\" and \"test\" should be counted as the same word)."
   ]
  },
  {
   "cell_type": "code",
   "execution_count": null,
   "metadata": {},
   "outputs": [],
   "source": [
    "from typing import Dict\n",
    "import re # A useful library for this task\n",
    "\n",
    "def count_word_frequency(sentence: str) -> Dict[str, int]:\n",
    "    # Your implementation goes here\n",
    "    pass\n",
    "\n",
    "# Example usage:\n",
    "sentence = \"This is a test. This test is only a test.\"\n",
    "frequency = count_word_frequency(sentence)\n",
    "print(f\"Sentence: '{sentence}'\")\n",
    "print(f\"Word Frequency: {frequency}\")"
   ]
  },
  {
   "cell_type": "markdown",
   "metadata": {},
   "source": [
    "---\n",
    "### Exercise 3: Two Sum\n",
    "\n",
    "**Task:** Write a function `two_sum` that takes a list of integers `nums` and an integer `target`. The function should find two numbers in the list that add up to the target. \n",
    "\n",
    "**Requirements:**\n",
    "- The function should return a list containing the **indices** of the two numbers.\n",
    "- If no such pair is found, the function should return `None`.\n",
    "- You may assume that each input would have exactly one solution (for the cases where a solution exists).\n",
    "- You may not use the same element twice."
   ]
  },
  {
   "cell_type": "code",
   "execution_count": null,
   "metadata": {},
   "outputs": [],
   "source": [
    "from typing import List, Optional\n",
    "\n",
    "def two_sum(nums: List[int], target: int) -> Optional[List[int]]:\n",
    "    # Your implementation goes here\n",
    "    pass\n",
    "\n",
    "# Example usage:\n",
    "nums = [2, 7, 11, 15]\n",
    "target = 9\n",
    "indices = two_sum(nums, target)\n",
    "print(f\"Nums: {nums}, Target: {target}\")\n",
    "print(f\"Indices: {indices}\") # Expected output: [0, 1] or [1, 0]"
   ]
  }
 ],
 "metadata": {
  "kernelspec": {
   "display_name": "Python 3",
   "language": "python",
   "name": "python3"
  },
  "language_info": {
   "codemirror_mode": {
    "name": "ipython",
    "version": 3
   },
   "file_extension": ".py",
   "mimetype": "text/x-python",
   "name": "python",
   "nbconvert_exporter": "python",
   "pygments_lexer": "ipython3",
   "version": "3.9.7"
  }
 },
 "nbformat": 4,
 "nbformat_minor": 4
}
