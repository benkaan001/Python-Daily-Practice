{
 "cells": [
  {
   "cell_type": "markdown",
   "metadata": {},
   "source": [
    "# Day 1: Mastering the Python Dictionary\n",
    "\n",
    "Welcome to Day 1! Today, we're focusing on the Python Dictionary, one of the most powerful and versatile data structures in the language. We'll cover basic operations, practical applications, and solve a classic interview question."
   ]
  },
  {
   "cell_type": "markdown",
   "metadata": {},
   "source": [
    "### Exercise 1: Dictionary Manipulation (Immutable)\n",
    "\n",
    "**Task:** Your goal is to write a function that takes a user profile dictionary and modifies it based on a given action. Crucially, your function must be **immutable**—it should always return a *new, modified copy* of the dictionary, leaving the original unchanged. This is a critical best practice in professional software development.\n",
    "\n",
    "**Actions:**\n",
    "- `add`: Add a new key-value pair.\n",
    "- `update`: Change the value of an existing key.\n",
    "- `delete`: Remove a key from the profile."
   ]
  },
  {
   "cell_type": "code",
   "execution_count": null,
   "metadata": {},
   "outputs": [],
   "source": [
    "def create_and_modify_profile(profile, action, key, value=None):\n",
    "    \"\"\"\n",
    "    Exercise 1: Modify a user profile dictionary.\n",
    "    - 'add': Add a new key-value pair.\n",
    "    - 'update': Update an existing key.\n",
    "    - 'delete': Remove a key.\n",
    "\n",
    "    IMPORTANT: This function should be 'immutable'. It must return a new,\n",
    "    modified copy of the dictionary and leave the original unchanged.\n",
    "    \"\"\"\n",
    "    # Your code here\n",
    "    pass\n",
    "\n",
    "# Example usage (you can test your implementation here)\n",
    "initial_profile = {'name': 'Ben', 'email': 'ben@example.com'}\n",
    "\n",
    "# Test adding\n",
    "profile_with_country = create_and_modify_profile(initial_profile, 'add', 'country', 'Thailand')\n",
    "print(f\"After adding: {profile_with_country}\")\n",
    "print(f\"Original unchanged: {initial_profile}\") \n",
    "\n",
    "# Test updating\n",
    "profile_updated_name = create_and_modify_profile(initial_profile, 'update', 'name', 'Benjamin')\n",
    "print(f\"After updating: {profile_updated_name}\")\n",
    "print(f\"Original unchanged: {initial_profile}\")"
   ]
  },
  {
   "cell_type": "markdown",
   "metadata": {},
   "source": [
    "### Exercise 2: Word Frequency Counter\n",
    "\n",
    "**Task:** Write a function that takes a sentence (a string) and returns a dictionary where the keys are the words and the values are their frequencies. The counting must be case-insensitive."
   ]
  },
  {
   "cell_type": "code",
   "execution_count": null,
   "metadata": {},
   "outputs": [],
   "source": [
    "def count_word_frequency(sentence):\n",
    "    \"\"\"\n",
    "    Exercise 2: Count the frequency of words in a sentence.\n",
    "    The counting should be case-insensitive.\n",
    "    \"\"\"\n",
    "    # Your code here\n",
    "    pass"
   ]
  },
  {
   "cell_type": "markdown",
   "metadata": {},
   "source": [
    "### Exercise 3: The 'Two Sum' Problem\n",
    "\n",
    "**Task:** This is a classic interview question. Given a list of integers `nums` and an integer `target`, return the *indices* of the two numbers in the list that add up to the target. You can assume that each input has exactly one solution."
   ]
  },
  {
   "cell_type": "code",
   "execution_count": null,
   "metadata": {},
   "outputs": [],
   "source": [
    "def two_sum(nums, target):\n",
    "    \"\"\"\n",
    "    Exercise 3: Find two numbers in a list that add up to a target.\n",
    "    Return the indices of the two numbers.\n",
    "    \"\"\"\n",
    "    # Your code here\n",
    "    pass"
   ]
  }
 ],
 "metadata": {
  "kernelspec": {
   "display_name": "Python 3",
   "language": "python",
   "name": "python3"
  },
  "language_info": {
   "codemirror_mode": {
    "name": "ipython",
    "version": 3
   },
   "file_extension": ".py",
   "mimetype": "text/x-python",
   "name": "python",
   "nbconvert_exporter": "python",
   "pygments_lexer": "ipython3",
   "version": "3.10.12"
  }
 },
 "nbformat": 4,
 "nbformat_minor": 4
}
