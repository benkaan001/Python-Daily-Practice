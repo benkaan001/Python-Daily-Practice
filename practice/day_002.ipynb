{
 "cells": [
  {
   "cell_type": "markdown",
   "metadata": {},
   "source": [
    "# Day 2: Mastering Python Lists\n",
    "\n",
    "Welcome to your practice notebook for Day 2! Use this space to experiment and solve the exercises. The `docs/day_002.md` file contains the full lesson and problem descriptions."
   ]
  },
  {
   "cell_type": "markdown",
   "metadata": {},
   "source": [
    "### Exercise 1: Slicing"
   ]
  },
  {
   "cell_type": "code",
   "execution_count": null,
   "metadata": {},
   "outputs": [],
   "source": [
    "from typing import Dict, List, Any\n",
    "\n",
    "def reverse_and_slice(data: List[Any]) -> List[Any]:\n",
    "    \"\"\"\n",
    "    Takes a list and returns a new list containing every other element\n",
    "    of the original list in reverse order.\n",
    "    \"\"\"\n",
    "    # Your code here\n",
    "    pass\n",
    "\n",
    "# Example Usage\n",
    "letters = ['a', 'b', 'c', 'd', 'e', 'f', 'g']\n",
    "result = reverse_and_slice(letters)\n",
    "print(f\"Original: {letters}\")\n",
    "print(f\"Result: {result}\")"
   ]
  },
  {
   "cell_type": "markdown",
   "metadata": {},
   "source": [
    "### Exercise 2: List Comprehensions"
   ]
  },
  {
   "cell_type": "code",
   "execution_count": null,
   "metadata": {},
   "outputs": [],
   "source": [
    "from typing import Dict, List, Any\n",
    "\n",
    "def filter_products(products: List[Dict[str, Any]], min_price: float) -> List[str]:\n",
    "    \"\"\"\n",
    "    Takes a list of product dictionaries.\n",
    "    Returns a new list containing only the names of products that are in stock\n",
    "    and cost more than the specified min_price.\n",
    "    \"\"\"\n",
    "    # Your code here\n",
    "    pass\n",
    "\n",
    "# Example Usage\n",
    "all_products = [\n",
    "    {\"name\": \"Laptop\", \"price\": 1200, \"in_stock\": True},\n",
    "    {\"name\": \"Mouse\", \"price\": 25, \"in_stock\": False},\n",
    "    {\"name\": \"Keyboard\", \"price\": 75, \"in_stock\": True},\n",
    "    {\"name\": \"Monitor\", \"price\": 300, \"in_stock\": True},\n",
    "]\n",
    "filtered = filter_products(all_products, 100.0)\n",
    "print(f\"Filtered Products: {filtered}\")"
   ]
  },
  {
   "cell_type": "markdown",
   "metadata": {},
   "source": [
    "### Exercise 3: In-Place Modification"
   ]
  },
  {
   "cell_type": "code",
   "execution_count": null,
   "metadata": {},
   "outputs": [],
   "source": [
    "from typing import Dict, List, Any\n",
    "\n",
    "def rotate_list(nums: List[int], k: int) -> None:\n",
    "    \"\"\"\n",
    "    Rotates a list to the right by k steps in-place.\n",
    "    The function should not return anything; it modifies the list directly.\n",
    "    \"\"\"\n",
    "    # Your code here\n",
    "    pass\n",
    "\n",
    "# Example Usage\n",
    "my_list = [1, 2, 3, 4, 5, 6, 7]\n",
    "k_rotations = 3\n",
    "print(f\"Original list: {my_list}\")\n",
    "rotate_list(my_list, k_rotations)\n",
    "print(f\"Rotated list:  {my_list}\")"
   ]
  }
 ],
 "metadata": {
  "kernelspec": {
   "display_name": "Python 3",
   "language": "python",
   "name": "python3"
  },
  "language_info": {
   "codemirror_mode": {
    "name": "ipython",
    "version": 3
   },
   "file_extension": ".py",
   "mimetype": "text/x-python",
   "name": "python",
   "nbconvert_exporter": "python",
   "pygments_lexer": "ipython3",
   "version": "3.10"
  }
 },
 "nbformat": 4,
 "nbformat_minor": 2
}
