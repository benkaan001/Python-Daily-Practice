{
 "cells": [
  {
   "cell_type": "markdown",
   "metadata": {},
   "source": [
    "# Day 3: Mastering Python Sets\n",
    "\n",
    "Welcome to your practice notebook for Day 3. Use this space to experiment and solve the exercises. The `docs/day_003.md` file contains the full lesson and problem descriptions."
   ]
  },
  {
   "cell_type": "markdown",
   "metadata": {},
   "source": [
    "### Exercise 1: Finding Unique Elements"
   ]
  },
  {
   "cell_type": "code",
   "execution_count": null,
   "metadata": {},
   "outputs": [],
   "source": [
    "from typing import List, Any\n",
    "\n",
    "def find_unique_elements(data: List[Any]) -> List[Any]:\n",
    "    \"\"\"\n",
    "    Takes a list of items and returns a new list containing only the unique\n",
    "    elements from the original list, while preserving the original order.\n",
    "    \"\"\"\n",
    "    # Your code here\n",
    "    pass\n",
    "\n",
    "# Example Usage\n",
    "items = [1, 2, 'a', 3, 'b', 2, 'a', 1]\n",
    "unique_items = find_unique_elements(items)\n",
    "print(f\"Original: {items}\")\n",
    "print(f\"Unique and Ordered: {unique_items}\")"
   ]
  },
  {
   "cell_type": "markdown",
   "metadata": {},
   "source": [
    "### Exercise 2: Comparing Sets of Skills"
   ]
  },
  {
   "cell_type": "code",
   "execution_count": null,
   "metadata": {},
   "outputs": [],
   "source": [
    "from typing import List, Set, Tuple\n",
    "\n",
    "def get_common_and_different_skills(\n",
    "    skills1: List[str], skills2: List[str]\n",
    ") -> Tuple[Set[str], Set[str]]:\n",
    "    \"\"\"\n",
    "    Takes two lists of skills. Returns a tuple containing two sets:\n",
    "    1. Skills common to both lists.\n",
    "    2. Skills that are unique to the first list.\n",
    "    \"\"\"\n",
    "    # Your code here\n",
    "    pass\n",
    "\n",
    "# Example Usage\n",
    "candidate1_skills = ['Python', 'SQL', 'Docker', 'Git']\n",
    "candidate2_skills = ['Java', 'SQL', 'Cloud', 'Python']\n",
    "common, unique = get_common_and_different_skills(candidate1_skills, candidate2_skills)\n",
    "print(f\"Common Skills: {common}\")\n",
    "print(f\"Skills unique to Candidate 1: {unique}\")"
   ]
  },
  {
   "cell_type": "markdown",
   "metadata": {},
   "source": [
    "### Exercise 3: Detecting Duplicates"
   ]
  },
  {
   "cell_type": "code",
   "execution_count": null,
   "metadata": {},
   "outputs": [],
   "source": [
    "def has_duplicate_characters(s: str) -> bool:\n",
    "    \"\"\"\n",
    "    Takes a string and returns True if the string contains any duplicate\n",
    "    characters, and False otherwise. The comparison is case-sensitive.\n",
    "    \"\"\"\n",
    "    # Your code here\n",
    "    pass\n",
    "\n",
    "# Example Usage\n",
    "string1 = \"abcdefg\"\n",
    "string2 = \"hello\"\n",
    "print(f\"'{string1}' has duplicates: {has_duplicate_characters(string1)}\")\n",
    "print(f\"'{string2}' has duplicates: {has_duplicate_characters(string2)}\")"
   ]
  }
 ],
 "metadata": {
  "kernelspec": {
   "display_name": "Python 3",
   "language": "python",
   "name": "python3"
  },
  "language_info": {
   "codemirror_mode": {
    "name": "ipython",
    "version": 3
   },
   "file_extension": ".py",
   "mimetype": "text/x-python",
   "name": "python",
   "nbconvert_exporter": "python",
   "pygments_lexer": "ipython3",
   "version": "3.10"
  }
 },
 "nbformat": 4,
 "nbformat_minor": 2
}
